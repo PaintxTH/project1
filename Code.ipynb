{
 "cells": [
  {
   "cell_type": "markdown",
   "metadata": {},
   "source": [
    "<img src=\"http://imgur.com/1ZcRyrc.png\" style=\"float: left; margin: 20px; height: 55px\">\n",
    "\n",
    "# Project 1: Data Analysis of Singapore Rainfall"
   ]
  },
  {
   "cell_type": "markdown",
   "metadata": {},
   "source": [
    "--- \n",
    "# Part 1\n",
    "\n",
    "Part 1 requires knowledge of basic Python.\n",
    "\n",
    "---"
   ]
  },
  {
   "cell_type": "markdown",
   "metadata": {},
   "source": [
    "### Contents:\n",
    "- [Background](#Background)\n",
    "- [Data Import & Cleaning](#Data-Import-and-Cleaning)\n",
    "- [Exploratory Data Analysis](#Exploratory-Data-Analysis)\n",
    "- [Data Visualization](#Visualize-the-Data)\n",
    "- [Conclusions and Recommendations](#Conclusions-and-Recommendations)"
   ]
  },
  {
   "cell_type": "markdown",
   "metadata": {},
   "source": [
    "## Background"
   ]
  },
  {
   "cell_type": "markdown",
   "metadata": {},
   "source": [
    "According to the [Meteorological Services Singapore](http://www.weather.gov.sg/climate-climate-of-singapore/#:~:text=Singapore%20is%20situated%20near%20the,month%2Dto%2Dmonth%20variation.), Singapore has typical tropical climate with adundant rainfall, high and uniform temperatures and high humidity all year round, since its situated near the equator. There are many factors that help us understand the climate of a country and in this project we are going to look into a few, especially rainfall.\n",
    "\n",
    "Singapore’s climate is characterised by two main monsoon seasons separated by inter-monsoonal periods.  The **Northeast Monsoon** occurs from December to early March, and the **Southwest Monsoon** from June to September.\n",
    "\n",
    "The major weather systems affecting Singapore that can lead to heavy rainfall are:\n",
    "\n",
    "-Monsoon surges, or strong wind episodes in the Northeast Monsoon flow bringing about major rainfall events;\n",
    "\n",
    "-Sumatra squalls, an organised line of thunderstorms travelling eastward across Singapore, having developed over the island of Sumatra or Straits of Malacca west of us;\n",
    "\n",
    "-Afternoon and evening thunderstorms caused by strong surface heating and by the sea breeze circulation that develops in the afternoon.\n",
    "\n",
    "Singapore’s climate station has been located at several different sites in the past 140 years. The station had been decommissioned at various points in the past due to changes to local land use in the site’s vicinity, and had to be relocated. Since 1984, the climate station has been located at **Changi**.\n",
    "\n",
    "There are other metrics of climate such as temperature, humidity, sun shine duration, wind speed, cloud cover etc. All the dataset used in the project comes from [data.gov.sg](data.gov.sg), as recorded at the Changi climate station \n"
   ]
  },
  {
   "cell_type": "markdown",
   "metadata": {},
   "source": [
    "### Choose your Data\n",
    "\n",
    "There are 2 datasets included in the [`data`](./data/) folder for this project. These correponds to rainfall information. \n",
    "\n",
    "* [`rainfall-monthly-number-of-rain-days.csv`](./data/rainfall-monthly-number-of-rain-days.csv): Monthly number of rain days from 1982 to 2022. A day is considered to have “rained” if the total rainfall for that day is 0.2mm or more.\n",
    "* [`rainfall-monthly-total.csv`](./data/rainfall-monthly-total.csv): Monthly total rain recorded in mm(millimeters) from 1982 to 2022\n",
    "\n",
    "Other relevant weather datasets from [data.gov.sg](data.gov.sg) that you can download and use are as follows:\n",
    "\n",
    "* [Relative Humidity](https://data.gov.sg/dataset/relative-humidity-monthly-mean)\n",
    "* [Monthly Maximum Daily Rainfall](https://data.gov.sg/dataset/rainfall-monthly-maximum-daily-total)\n",
    "* [Hourly wet buld temperature](https://data.gov.sg/dataset/wet-bulb-temperature-hourly)\n",
    "* [Monthly mean sunshine hours](https://data.gov.sg/dataset/sunshine-duration-monthly-mean-daily-duration)\n",
    "* [Surface Air Temperature](https://data.gov.sg/dataset/surface-air-temperature-mean-daily-minimum)\n",
    "\n",
    "You can also use other datasets for your analysis, make sure to cite the source when you are using them"
   ]
  },
  {
   "cell_type": "markdown",
   "metadata": {},
   "source": [
    "**To-Do:** *Fill out this cell with the datasets you will use for your analysis. Write a brief description of the contents for each dataset that you choose.*"
   ]
  },
  {
   "cell_type": "markdown",
   "metadata": {},
   "source": [
    "## Problem Statement"
   ]
  },
  {
   "cell_type": "markdown",
   "metadata": {},
   "source": [
    "Decide on your problem statement that will guide your analysis for this project. For guidelines, sample prompts, or inspiration, check out the README.\n",
    "\n",
    "**To-Do:** *Replace this cell with your problem statement.*\n",
    "\n",
    "**Problem Statement**\n",
    "As a carwash shop owner, there is an uprising among our employees about welfare provided. This situation leave us short in employees due to competitiveness in wages & welfare. \n",
    "\n",
    "So, We are fixing this problem by considering uplift our employee welfare to be more delightful and competitive to the market by adding extra annual paid leave with affecting least on company's revenue.\n",
    "(Giving that employees are hire in monthly scheme)"
   ]
  },
  {
   "cell_type": "markdown",
   "metadata": {},
   "source": [
    "**Objective:** As \"demand for car washes is typically lower during the rainy season than during other times of the year.\"*** rainy season will be the condition for the usage of extra annual paid leave for our employees to affecting least on company's revenue. Hence, we are trying to identify designated months for this condition.\n",
    "\n",
    "We already know that SG has 2 monsoon seasons,The Northeast Monsoon from December-March, and the Southwest Monsoon from June-September, but which one is the worse ? So, we can flag one and aim those season, Then which month could be a condition for our employee extra leaves"
   ]
  },
  {
   "cell_type": "markdown",
   "metadata": {},
   "source": [
    "Rainfall affects daily activities of Singapore population, hence it is worth analysing rainfall data to identify trends "
   ]
  },
  {
   "cell_type": "markdown",
   "metadata": {},
   "source": [
    "### Outside Research"
   ]
  },
  {
   "cell_type": "markdown",
   "metadata": {},
   "source": [
    "Based on your problem statement and your chosen datasets, spend some time doing outside research on how climate change is affecting different industries or additional information that might be relevant. Summarize your findings below. If you bring in any outside tables or charts, make sure you are explicit about having borrowed them. If you quote any text, make sure that it renders as being quoted. **Make sure that you cite your sources.**"
   ]
  },
  {
   "cell_type": "markdown",
   "metadata": {},
   "source": [
    "**To-Do:** *Fill out this cell with outside research or any additional background information that will support your analysis.*\n",
    "\n",
    "1.Professional Carwashing & Detailing magazine, \"Weather's impact on carwashing\" article, published March 2022.*\n",
    "https://www.carwash.com/weathers-impact-carwashing/\n",
    "\n"
   ]
  },
  {
   "cell_type": "markdown",
   "metadata": {},
   "source": []
  },
  {
   "cell_type": "markdown",
   "metadata": {},
   "source": [
    "### Coding Challenges\n",
    "\n",
    "1. Manually calculate mean:\n",
    "\n",
    "    Write a function that takes in values and returns the mean of the values. Create a list of numbers that you test on your function to check to make sure your function works!\n",
    "    \n",
    "    *Note*: Do not use any mean methods built-in to any Python libraries to do this! This should be done without importing any additional libraries."
   ]
  },
  {
   "cell_type": "code",
   "execution_count": null,
   "metadata": {},
   "outputs": [],
   "source": [
    "# Code:\n",
    "def cal_mean(*args):\n",
    "    sum=0\n",
    "    count=0\n",
    "    for i in args:\n",
    "        sum+= i\n",
    "        count+= 1\n",
    "    return sum/count\n",
    "\n",
    "cal_mean(10, 12, 23, 23, 16, 23, 21, 16)"
   ]
  },
  {
   "cell_type": "markdown",
   "metadata": {},
   "source": [
    "2. Manually calculate standard deviation:\n",
    "\n",
    "    The formula for standard deviation is below:\n",
    "\n",
    "    $$\\sigma = \\sqrt{\\frac{1}{n}\\sum_{i=1}^n(x_i - \\mu)^2}$$\n",
    "\n",
    "    Where $x_i$ represents each value in the dataset, $\\mu$ represents the mean of all values in the dataset and $n$ represents the number of values in the dataset.\n",
    "\n",
    "    Write a function that takes in values and returns the standard deviation of the values using the formula above. Hint: use the function you wrote above to calculate the mean! Use the list of numbers you created above to test on your function.\n",
    "    \n",
    "    *Note*: Do not use any standard deviation methods built-in to any Python libraries to do this! This should be done without importing any additional libraries."
   ]
  },
  {
   "cell_type": "code",
   "execution_count": null,
   "metadata": {},
   "outputs": [],
   "source": [
    "# Code:\n",
    "def Cal_SD(*data):\n",
    "    count=0\n",
    "    sum_of_inner_bracket=0\n",
    "    for _ in data:\n",
    "        count+= 1\n",
    "        sum_of_inner_bracket += (_ - cal_mean(*data))**2\n",
    "    return ((sum_of_inner_bracket/count)**0.5)\n",
    "\n",
    "Cal_SD(10, 12, 23, 23, 16, 23, 21, 16)"
   ]
  },
  {
   "cell_type": "markdown",
   "metadata": {},
   "source": [
    "--- \n",
    "# Part 2\n",
    "\n",
    "Part 2 requires knowledge of Pandas, EDA, data cleaning, and data visualization.\n",
    "\n",
    "---"
   ]
  },
  {
   "cell_type": "markdown",
   "metadata": {},
   "source": [
    "*All libraries used should be added here*"
   ]
  },
  {
   "cell_type": "code",
   "execution_count": null,
   "metadata": {},
   "outputs": [],
   "source": [
    "# Imports:\n",
    "import numpy as np\n",
    "import seaborn as sns\n",
    "import pandas as pd\n",
    "import matplotlib.pyplot as plt\n",
    "import seaborn as sns\n",
    "import missingno as msno\n",
    "import plotly.graph_objects as go\n",
    "from plotly.subplots import make_subplots"
   ]
  },
  {
   "cell_type": "markdown",
   "metadata": {},
   "source": [
    "## Data Import and Cleaning"
   ]
  },
  {
   "cell_type": "markdown",
   "metadata": {},
   "source": [
    "### Data Import & Cleaning\n",
    "\n",
    "Import all the datasets that you selected for this project and go through the following steps at a minimum. You are welcome to do further cleaning as you feel necessary. Make sure to comment your code to showcase the intent behind the data processing step.\n",
    "1. Display the data: print the first 5 rows of each dataframe to your Jupyter notebook.\n",
    "2. Check for missing values and datatype.\n",
    "3. Check for any obvious issues with the observations.\n",
    "4. Fix any errors you identified in steps 2-3.\n",
    "6. Fix any incorrect data types found in step 5.\n",
    "    - Fix any individual values preventing other columns from being the appropriate type.\n",
    "    - If the month column data is better analyzed as month and year, create new columns for the same\n",
    "7. Rename Columns.\n",
    "    - Column names should be all lowercase.\n",
    "    - Column names should not contain spaces (underscores will suffice--this allows for using the `df.column_name` method to access columns in addition to `df['column_name']`).\n",
    "    - Column names should be unique and informative.\n",
    "8. Drop unnecessary rows (if needed).\n",
    "9. Merge dataframes that can be merged.\n",
    "    - Since different climate metrics are in month format, you can merge them into one single dataframe for easier analysis\n",
    "10. Perform any additional cleaning that you feel is necessary.\n",
    "11. Save your cleaned and merged dataframes as csv files."
   ]
  },
  {
   "cell_type": "code",
   "execution_count": null,
   "metadata": {},
   "outputs": [],
   "source": [
    "# Import Data:\n",
    "# Display the data: print the first 5 rows of each dataframe to your Jupyter notebook.\n",
    "sgrf = pd.read_csv(\"rainfall-monthly-number-of-rain-days.csv\")\n",
    "sgtr = pd.read_csv(\"rainfall-monthly-total.csv\")\n",
    "print(sgrf.shape), print(sgtr.shape) \n",
    "sgrf.head(), sgtr.head()"
   ]
  },
  {
   "cell_type": "code",
   "execution_count": null,
   "metadata": {},
   "outputs": [],
   "source": [
    "sgtr.tail(14)"
   ]
  },
  {
   "cell_type": "code",
   "execution_count": null,
   "metadata": {},
   "outputs": [],
   "source": [
    "sgtr.head(10)"
   ]
  },
  {
   "cell_type": "code",
   "execution_count": null,
   "metadata": {},
   "outputs": [],
   "source": [
    "# Check for missing values and datatype.\n",
    "sgrf.isnull().sum(), sgtr.isnull().sum()"
   ]
  },
  {
   "cell_type": "code",
   "execution_count": null,
   "metadata": {},
   "outputs": [],
   "source": [
    "## Check for missing values and datatype cont.\n",
    "sgrf.dtypes, sgtr.dtypes"
   ]
  },
  {
   "cell_type": "code",
   "execution_count": null,
   "metadata": {},
   "outputs": [],
   "source": [
    "## Check for any obvious issues with the observations.\n",
    "sgrf.describe(), sgtr.describe()"
   ]
  },
  {
   "cell_type": "code",
   "execution_count": null,
   "metadata": {},
   "outputs": [],
   "source": [
    "#Check for any obvious issues with the observations.\n",
    "sgrf.info(), sgtr.info()"
   ]
  },
  {
   "cell_type": "code",
   "execution_count": null,
   "metadata": {},
   "outputs": [],
   "source": [
    "#Fix any errors you identified in steps 2-3.\n",
    "#Fix any incorrect data types found in step 5.\n",
    "#Fix any individual values preventing other columns from being the appropriate type.\n",
    "#If the month column data is better analyzed as month and year, create new columns for the same#\n",
    "\n",
    "sgrf['month'] = pd.to_datetime(sgrf['month'])\n",
    "sgtr['month'] = pd.to_datetime(sgtr['month'])"
   ]
  },
  {
   "cell_type": "code",
   "execution_count": null,
   "metadata": {},
   "outputs": [],
   "source": [
    "sgrf.dtypes, sgtr.dtypes"
   ]
  },
  {
   "cell_type": "code",
   "execution_count": null,
   "metadata": {},
   "outputs": [],
   "source": [
    "sgrf.value_counts() , sgtr.value_counts()"
   ]
  },
  {
   "cell_type": "code",
   "execution_count": null,
   "metadata": {},
   "outputs": [],
   "source": [
    "len(sgrf['month'].unique()), len(sgtr['month'].unique())"
   ]
  },
  {
   "cell_type": "code",
   "execution_count": null,
   "metadata": {},
   "outputs": [],
   "source": [
    "len(sgtr['total_rainfall'].unique())"
   ]
  },
  {
   "cell_type": "code",
   "execution_count": null,
   "metadata": {},
   "outputs": [],
   "source": [
    "#Rename Columns.\n",
    "#Column names should be all lowercase. --- Checked\n",
    "#Column names should not contain spaces (underscores will suffice--this allows for using the df.column_name method to access columns in addition to df['column_name']).\n",
    "#--- Checked\n",
    "#Column names should be unique and informative. --- Checked\n",
    "sgrf.columns.unique(), sgtr.columns.unique()"
   ]
  },
  {
   "cell_type": "markdown",
   "metadata": {},
   "source": [
    "#Drop unnecessary rows (if needed).\n",
    "\n",
    "**Disclaimer:** As stated in Raw Data above, the metrological station has been relocated quite a few then moved to Changi since 1984, I didn't remove the data from 1982 to 1984 since station relocation may not be a big deal in Singapore context which as total area of a bit more from Phuket province!"
   ]
  },
  {
   "cell_type": "code",
   "execution_count": null,
   "metadata": {},
   "outputs": [],
   "source": [
    "#Merge dataframes that can be merged.\n",
    "sgrf['total_rainfall'] = sgtr['total_rainfall']\n",
    "sgrf['Avg_rf_perday']= sgrf['total_rainfall']/sgrf['no_of_rainy_days']\n",
    "sgrf['date'] = sgrf['month']\n",
    "sgrf['year']= sgrf['date'].dt.strftime('%Y')\n",
    "sgrf['month']= sgrf['date'].dt.strftime('%m')"
   ]
  },
  {
   "cell_type": "code",
   "execution_count": null,
   "metadata": {},
   "outputs": [],
   "source": [
    "sgrf2 = sgrf \n",
    "sgrf2.reset_index\n",
    "sgrf2"
   ]
  },
  {
   "cell_type": "markdown",
   "metadata": {},
   "source": [
    "### Data Dictionary\n",
    "\n",
    "Now that we've fixed our data, and given it appropriate names, let's create a [data dictionary](http://library.ucmerced.edu/node/10249). \n",
    "\n",
    "A data dictionary provides a quick overview of features/variables/columns, alongside data types and descriptions. The more descriptive you can be, the more useful this document is.\n",
    "\n",
    "Example of a Fictional Data Dictionary Entry: \n",
    "\n",
    "|Feature|Type|Dataset|Description|\n",
    "|---|---|---|---|\n",
    "|**county_pop**|*integer*|2010 census|The population of the county (units in thousands, where 2.5 represents 2500 people).| \n",
    "|**per_poverty**|*float*|2010 census|The percent of the county over the age of 18 living below the 200% of official US poverty rate (units percent to two decimal places 98.10 means 98.1%)|\n",
    "\n",
    "[Here's a quick link to a short guide for formatting markdown in Jupyter notebooks](https://jupyter-notebook.readthedocs.io/en/stable/examples/Notebook/Working%20With%20Markdown%20Cells.html).\n",
    "\n",
    "Provided is the skeleton for formatting a markdown table, with columns headers that will help you create a data dictionary to quickly summarize your data, as well as some examples. **This would be a great thing to copy and paste into your custom README for this project.**\n",
    "\n",
    "*Note*: if you are unsure of what a feature is, check the source of the data! This can be found in the README."
   ]
  },
  {
   "cell_type": "markdown",
   "metadata": {},
   "source": [
    "**To-Do:** *Edit the table below to create your own data dictionary for the datasets you chose.*\n",
    "\n",
    "|Feature|Type|Dataset|Description|\n",
    "|---|---|---|---|\n",
    "|**total_rainfall**|float|rainfall-monthly-total|Total rainfall in mm| \n",
    "|**no_of_rainy_days**|int|rainfall-monthly-number-of-rain-days|Total numbers of rainfall days by month|\n",
    "|**Avg_rf_perday**|float|sgrf|Average rainfall per day (only day that rains 0.2mm or more ) |\n",
    "|**sgrf**|dataframe|no_of_rainy_days| dataframe of total numbers of rainfall days by month |\n",
    "|**sgtr**|dataframe|total_rainfall| dataframe of total rainfall in mm |\n",
    "|**sd**|dictionary|total_rainfall + no_of_rainy_days| dictionary of total rainfall in mm and total numbers of rainfall days by month |\n",
    "|**sgrf2**|dataframe|total_rainfall + no_of_rainy_days| dataframe of total rainfall in mm and total numbers of rainfall days by month |\n",
    "|**GR_NumRainDays**|column|sgrf2| column that shows average growth rate Month on Month of rain days (>0.2mm) from 1982-2022 |\n",
    "|**GR_Totalrainfall**|column|sgrf2| column that shows average growth rate Month on Month of accumulated rain from 1982-2022 |\n"
   ]
  },
  {
   "cell_type": "markdown",
   "metadata": {},
   "source": [
    "## Exploratory Data Analysis\n",
    "\n",
    "Complete the following steps to explore your data. You are welcome to do more EDA than the steps outlined here as you feel necessary:\n",
    "1. Summary Statistics.\n",
    "2. Use a **dictionary comprehension** to apply the standard deviation function you create in part 1 to each numeric column in the dataframe.  **No loops**.\n",
    "    - Assign the output to variable `sd` as a dictionary where: \n",
    "        - Each column name is now a key \n",
    "        - That standard deviation of the column is the value \n",
    "        - *Example Output :* `{'rainfall-monthly-total': xxx, 'no_of_rainy_days': xxx, ...}`\n",
    "3. Investigate trends in the data.\n",
    "    - Using sorting and/or masking (along with the `.head()` method to avoid printing our entire dataframe), consider questions relevant to your problem statement. Some examples are provided below (but feel free to change these questions for your specific problem):\n",
    "        - Which month have the highest and lowest total rainfall in 1990, 2000, 2010 and 2020?\n",
    "        - Which year have the highest and lowest total rainfall in the date range of analysis?\n",
    "        - Which month have the highest and lowest number of rainy days in 1990, 2000, 2010 and 2020?\n",
    "        - Which year have the highest and lowest number of rainy days in the date range of analysis?\n",
    "        - Are there any outliers months in the dataset?\n",
    "       \n",
    "    - **The above 5 questions are compulsory. Feel free to explore other trends based on the datasets that you have choosen for analysis. You should comment on your findings at each step in a markdown cell below your code block**. Make sure you include at least one example of sorting your dataframe by a column, and one example of using boolean filtering (i.e., masking) to select a subset of the dataframe."
   ]
  },
  {
   "cell_type": "code",
   "execution_count": null,
   "metadata": {},
   "outputs": [],
   "source": [
    "#1.Summary Statistics.\n",
    "sgrf.describe()"
   ]
  },
  {
   "cell_type": "code",
   "execution_count": null,
   "metadata": {},
   "outputs": [],
   "source": [
    "#2.Use a dictionary comprehension to apply the standard deviation function you create in part 1 \n",
    "#to each numeric column in the dataframe. No loops. #Code:\n",
    "\n",
    "sd={'rainfall-monthly-total': Cal_SD(*sgrf['no_of_rainy_days']),'no_of_rainy_days':Cal_SD(*sgtr['total_rainfall'])}\n",
    "sd"
   ]
  },
  {
   "cell_type": "code",
   "execution_count": null,
   "metadata": {},
   "outputs": [],
   "source": [
    "#3. Investigate trends in the data. Using sorting and/or masking (along with the `.head()` method to avoid printing our entire dataframe), consider questions relevant to your problem statement. Some examples are provided below (but feel free to change these questions for your specific problem):\n",
    "#Which month have the highest and lowest total rainfall in 1990, 2000, 2010 and 2020?\n",
    "print('**Year 1990**')\n",
    "print((sgrf2[sgrf2['year'] =='1990']).groupby('month')['total_rainfall'].sum().sort_values(ascending=False).head(1))\n",
    "print('**Year 2000**')\n",
    "print((sgrf2[sgrf2['year'] =='2000']).groupby('month')['total_rainfall'].sum().sort_values(ascending=False).head(1))\n",
    "print('**Year 2010**')\n",
    "print((sgrf2[sgrf2['year'] =='2010']).groupby('month')['total_rainfall'].sum().sort_values(ascending=False).head(1))\n",
    "print('**Year 2020**')\n",
    "print((sgrf2[sgrf2['year'] =='2020']).groupby('month')['total_rainfall'].sum().sort_values(ascending=False).head(1))\n"
   ]
  },
  {
   "cell_type": "code",
   "execution_count": null,
   "metadata": {},
   "outputs": [],
   "source": [
    "#Which year have the highest and lowest total rainfall in the date range of analysis?\n",
    "print(f\" Max {sgrf2.groupby('year')['total_rainfall'].sum().sort_values(ascending=False).head(1)}\")\n",
    "print(f\" Mix {sgrf2.groupby('year')['total_rainfall'].sum().sort_values(ascending=False).tail(1)}\")"
   ]
  },
  {
   "cell_type": "code",
   "execution_count": null,
   "metadata": {},
   "outputs": [],
   "source": [
    "#Which month have the highest and lowest number of rainy days in 1990, 2000, 2010 and 2020?\n",
    "print('**Year 1990**')\n",
    "print((sgrf2[sgrf2['year'] =='1990']).groupby('month')['no_of_rainy_days'].sum().sort_values(ascending=False).head(1))\n",
    "print('**Year 2000**')\n",
    "print((sgrf2[sgrf2['year'] =='2000']).groupby('month')['no_of_rainy_days'].sum().sort_values(ascending=False).head(1))\n",
    "print('**Year 2010**')\n",
    "print((sgrf2[sgrf2['year'] =='2010']).groupby('month')['no_of_rainy_days'].sum().sort_values(ascending=False).head(1))\n",
    "print('**Year 2020**')\n",
    "print((sgrf2[sgrf2['year'] =='2020']).groupby('month')['no_of_rainy_days'].sum().sort_values(ascending=False).head(1))\n"
   ]
  },
  {
   "cell_type": "code",
   "execution_count": null,
   "metadata": {},
   "outputs": [],
   "source": [
    "#Which year have the highest and lowest number of rainy days in the date range of analysis?\n",
    "sgrf2['no_of_rainy_days'].describe()\n",
    "#Min = 1, Max = 27\n",
    "print(f\" Max {sgrf2.groupby('year')['no_of_rainy_days'].sum().sort_values(ascending=False).head(1)}\")\n",
    "print(f\" Mix {sgrf2.groupby('year')['no_of_rainy_days'].sum().sort_values(ascending=False).tail(1)}\")"
   ]
  },
  {
   "cell_type": "code",
   "execution_count": null,
   "metadata": {},
   "outputs": [],
   "source": [
    "#Are there any outliers months in the dataset?\n",
    "sgrf2.boxplot('total_rainfall')\n",
    "#Yes\n",
    "plt.show()"
   ]
  },
  {
   "cell_type": "code",
   "execution_count": null,
   "metadata": {},
   "outputs": [],
   "source": [
    "#Are there any outliers months in the dataset? Cont.\n",
    "sgrf2['total_rainfall'].describe()"
   ]
  },
  {
   "cell_type": "code",
   "execution_count": null,
   "metadata": {},
   "outputs": [],
   "source": [
    "#Are there any outliers months in the dataset? Cont.\n",
    "iqr = 238.075000 - 93.850000\n",
    "#Whisker: \n",
    "print(f'Lower {93.850000 - 1.5*iqr} ')\n",
    "print(f'Upper {238.075000 + 1.5*iqr} ')\n",
    "\n",
    "#Rainfall that are more than 454.41249999999997 "
   ]
  },
  {
   "cell_type": "code",
   "execution_count": null,
   "metadata": {
    "scrolled": true
   },
   "outputs": [],
   "source": [
    "#Are there any outliers months in the dataset? Cont.\n",
    "sgrf2.boxplot('total_rainfall')\n",
    "sgrf2[sgrf2['total_rainfall'] > 454.41249999999997].count()\n",
    "\n",
    "#14 Rows"
   ]
  },
  {
   "cell_type": "code",
   "execution_count": null,
   "metadata": {},
   "outputs": [],
   "source": [
    "##More.."
   ]
  },
  {
   "cell_type": "code",
   "execution_count": null,
   "metadata": {},
   "outputs": [],
   "source": [
    "sgrf2.dtypes"
   ]
  },
  {
   "cell_type": "markdown",
   "metadata": {},
   "source": [
    "**To-Do:** *Edit this cell with your findings on trends in the data (step 3 above).*"
   ]
  },
  {
   "cell_type": "markdown",
   "metadata": {},
   "source": [
    "## Visualize the Data\n",
    "\n",
    "There's not a magic bullet recommendation for the right number of plots to understand a given dataset, but visualizing your data is *always* a good idea. Not only does it allow you to quickly convey your findings (even if you have a non-technical audience), it will often reveal trends in your data that escaped you when you were looking only at numbers. It is important to not only create visualizations, but to **interpret your visualizations** as well.\n",
    "\n",
    "**Every plot should**:\n",
    "- Have a title\n",
    "- Have axis labels\n",
    "- Have appropriate tick labels\n",
    "- Text is legible in a plot\n",
    "- Plots demonstrate meaningful and valid relationships\n",
    "- Have an interpretation to aid understanding\n",
    "\n",
    "Here is an example of what your plots should look like following the above guidelines. Note that while the content of this example is unrelated, the principles of visualization hold:\n",
    "\n",
    "![](https://snag.gy/hCBR1U.jpg)\n",
    "*Interpretation: The above image shows that as we increase our spending on advertising, our sales numbers also tend to increase. There is a positive correlation between advertising spending and sales.*\n",
    "\n",
    "---\n",
    "\n",
    "Here are some prompts to get you started with visualizations. Feel free to add additional visualizations as you see fit:\n",
    "1. Use Seaborn's heatmap with pandas `.corr()` to visualize correlations between all numeric features.\n",
    "    - Heatmaps are generally not appropriate for presentations, and should often be excluded from reports as they can be visually overwhelming. **However**, they can be extremely useful in identify relationships of potential interest (as well as identifying potential collinearity before modeling).\n",
    "    - Please take time to format your output, adding a title. Look through some of the additional arguments and options. (Axis labels aren't really necessary, as long as the title is informative).\n",
    "2. Visualize distributions using histograms. If you have a lot, consider writing a custom function and use subplots.\n",
    "    - *OPTIONAL*: Summarize the underlying distributions of your features (in words & statistics)\n",
    "         - Be thorough in your verbal description of these distributions.\n",
    "         - Be sure to back up these summaries with statistics.\n",
    "         - We generally assume that data we sample from a population will be normally distributed. Do we observe this trend? Explain your answers for each distribution and how you think this will affect estimates made from these data.\n",
    "3. Plot and interpret boxplots. \n",
    "    - Boxplots demonstrate central tendency and spread in variables. In a certain sense, these are somewhat redundant with histograms, but you may be better able to identify clear outliers or differences in IQR, etc.\n",
    "    - Multiple values can be plotted to a single boxplot as long as they are of the same relative scale (meaning they have similar min/max values).\n",
    "    - Each boxplot should:\n",
    "        - Only include variables of a similar scale\n",
    "        - Have clear labels for each variable\n",
    "        - Have appropriate titles and labels\n",
    "4. Plot and interpret scatter plots to view relationships between features. Feel free to write a custom function, and subplot if you'd like. Functions save both time and space.\n",
    "    - Your plots should have:\n",
    "        - Two clearly labeled axes\n",
    "        - A proper title\n",
    "        - Colors and symbols that are clear and unmistakable\n",
    "5. Additional plots of your choosing.\n",
    "    - Are there any additional trends or relationships you haven't explored? Was there something interesting you saw that you'd like to dive further into? It's likely that there are a few more plots you might want to generate to support your narrative and recommendations that you are building toward. **As always, make sure you're interpreting your plots as you go**."
   ]
  },
  {
   "cell_type": "markdown",
   "metadata": {},
   "source": [
    "Some ideas for plots that can be generated:\n",
    "\n",
    "- Plot the histogram of the rainfall data with various bins and comment on the distribution of the data - is it centered, skewed?\n",
    "- Plot the box-and-whiskers plot. Comment on the different quartiles and identify any outliers in the dataset. \n",
    "- Is there a correlation between the number of rainy days and total rainfall in the month? What kind of correlation do your suspect? Does the graph show the same?\n"
   ]
  },
  {
   "cell_type": "code",
   "execution_count": null,
   "metadata": {},
   "outputs": [],
   "source": [
    "#3.Plot and interpret boxplots\n",
    "msno.matrix(sgrf2)\n",
    "plt.show(True)"
   ]
  },
  {
   "cell_type": "code",
   "execution_count": null,
   "metadata": {},
   "outputs": [],
   "source": [
    "#Use Seaborn's heatmap with pandas .corr() to visualize correlations between all numeric features\n",
    "sns.heatmap(sgrf2.corr(numeric_only=True), annot=True, cmap='coolwarm')\n",
    "plt.title('Heatmap of Singapore Rainfall Data from 1982-2022')\n",
    "plt.show(True)\n",
    "\n",
    "\n",
    "#This graph shows that has Rainy Day & Rain Fall (in mms) has some correlation \n",
    "#and between Average rainfall per day (>0.2mm) & Rainfall also has strong correlation since its root is from one another."
   ]
  },
  {
   "cell_type": "code",
   "execution_count": null,
   "metadata": {},
   "outputs": [],
   "source": [
    "#Plot and interpret scatter plots to view relationships between features. \n",
    "#Feel free to write a custom function, and subplot if you'd like. Functions save both time and space.\n",
    "\n",
    "sns.pairplot(sgrf2[['total_rainfall','no_of_rainy_days']])\n",
    "plt.title('Pairplot: b/w date & no_of_rainy_days',y=1.0,loc='center')\n",
    "\n",
    "plt.show(True)"
   ]
  },
  {
   "cell_type": "code",
   "execution_count": null,
   "metadata": {},
   "outputs": [],
   "source": [
    "plt.figure(figsize = (16,9))\n",
    "ax1 = plt.subplot(2, 2, 1)\n",
    "ax1.scatter(sgrf2['date'],\n",
    "           sgrf2['no_of_rainy_days'], color='red')\n",
    "ax1.set_title('Scatterplot of Singapore Total Rain Day (>0.2mm) Data from 1982-2022', fontsize=10)\n",
    "ax1.set_xlabel('Year', fontsize=8)\n",
    "ax1.set_ylabel('Rainy day (Days)')\n",
    "xmin1, xmax1 = ax1.get_xlim() \n",
    "ax1.hlines(y = np.mean(sgrf2['no_of_rainy_days']), xmin = xmin1, xmax = xmax1, color = 'orange');\n",
    "\n",
    "\n",
    "ax2 = plt.subplot(2, 2, 2)\n",
    "ax2.scatter(sgrf2['month'],\n",
    "           sgrf2['no_of_rainy_days'], color='red')\n",
    "ax2.set_title('Scatterplot of Singapore monthly Rain Day (>0.2mm) from 1982-2022 breakdown by Months', fontsize=10)\n",
    "ax2.set_xlabel('Month', fontsize=8)\n",
    "ax2.set_ylabel('Rainy day (Days)')\n",
    "xmin2, xmax2 = ax2.get_xlim() \n",
    "ax2.hlines(y = np.mean(sgrf2['no_of_rainy_days']), xmin = xmin2, xmax = xmax2, color = 'orange');\n",
    "\n",
    "ax3 = plt.subplot(2, 2, 3)\n",
    "ax3.scatter(sgrf2['date'],\n",
    "           sgrf2['total_rainfall'], color='orange')\n",
    "ax3.set_title('Scatterplot of Singapore monthly Rainfall from 1982-2022', fontsize=10)\n",
    "ax3.set_xlabel('Year', fontsize=8)\n",
    "ax3.set_ylabel('Accumulated Rain Fall by Month (Milimeters)')\n",
    "xmin3, xmax3 = ax3.get_xlim() \n",
    "ax3.hlines(y = np.mean(sgrf2['total_rainfall']), xmin = xmin3, xmax = xmax3, color = 'red');\n",
    "\n",
    "ax4 = plt.subplot(2, 2, 4)\n",
    "ax4.scatter(sgrf2['month'],\n",
    "           sgrf2['total_rainfall'], color='orange')\n",
    "ax4.set_title('Scatterplot of Singapore monthly Rainfall from 1982-2022 breakdown by Months', fontsize=10)\n",
    "ax4.set_xlabel('Month', fontsize=8)\n",
    "ax4.set_ylabel('Accumulated Rain Fall by Month (Milimeters)')\n",
    "xmin4, xmax4 = ax4.get_xlim() \n",
    "ax4.hlines(y = np.mean(sgrf2['total_rainfall']), xmin = xmin4, xmax = xmax4, color = 'red');\n",
    "\n",
    "plt.show(True)\n",
    "\n",
    "#1.1 (UpperLeft) Average Rainy Days doesn't show significant pattern over period of time.\n",
    "#1.2 (UpperRight) Average Rainy Days doesn't differ much among months this may because of the amount rain accum to\n",
    "#to count as a Rainy Day may be too low (>0.2mm)\n",
    "#2.1 (LowerLeft) Average Accumulated rain doesn't show significant pattern over period of time.\n",
    "#2.2 (LowerRight) It shows that Rain seasons in Singapore could be around October to February (Month 10-2)\n",
    "#which are sync with the Northeast Monsoon that occurs from December to early March. although , Southwest Monsoon \n",
    "#from June to September doesn't seem to differ from the other\n"
   ]
  },
  {
   "cell_type": "code",
   "execution_count": null,
   "metadata": {},
   "outputs": [],
   "source": [
    "#Visualize distributions using histograms. If you have a lot, consider writing a custom function and use subplots.\n",
    "plt.figure(figsize = (16,9))\n",
    "\n",
    "ax2 = plt.subplot(2, 1, 1)\n",
    "ax2.hist(sgrf2['no_of_rainy_days'], color='red', bins=15)\n",
    "ax2.set_title('Histogram of Singapore Monthly Rain Days Data from 1980-2022', fontsize=10)\n",
    "ax2.set_xlabel('Rainy day (Total/Month)', fontsize=8)\n",
    "ax2.set_ylabel('Frequency')\n",
    "ymin2, ymax2 = ax2.get_ylim() \n",
    "ax2.vlines(x = np.mean(sgrf2['no_of_rainy_days']), ymin = ymin2, ymax = ymax2, color = 'orange');\n",
    "\n",
    "\n",
    "ax1 = plt.subplot(2, 1, 2)\n",
    "ax1.hist(sgrf2['total_rainfall'], color='orange', bins=15)\n",
    "ax1.set_title('Histogram of Singapore Monthly Rainfall Amount from 1980-2022', fontsize=10)\n",
    "ax1.set_xlabel('Accumulated Rain Fall (Total/Month)', fontsize=8)\n",
    "ax1.set_ylabel('Frequency')\n",
    "ymin1, ymax1 = ax1.get_ylim() \n",
    "ax1.vlines(x = np.mean(sgrf2['total_rainfall']), ymin = ymin1, ymax = ymax1, color = 'red', label='Avg');\n",
    "\n",
    "\n",
    "plt.show(True)\n",
    "\n",
    "\n",
    "print(f\" Mean of no_of_rainy_days is {sgrf2['no_of_rainy_days'].mean()}\")\n",
    "print(f\" Mean of total_rainfall is {sgrf2['total_rainfall'].mean()}\")\n",
    "\n",
    "##1 (Upper Graph) This shows that average of Rainy day sits around 14 days a month this backup our hypothesis that\n",
    "#>0.2 mm maybe too low to count as a Rainy day and the graph seem to approach normal dist.\n",
    "\n",
    "##2 (Lower Graph) This shows that average accumulated rainfall (mm) is around 177.163 per month. anything beyond this\n",
    "#point could consider as is Rain seasons and the graph is right-skewed\n",
    "\n"
   ]
  },
  {
   "cell_type": "code",
   "execution_count": null,
   "metadata": {},
   "outputs": [],
   "source": [
    "#Fix\n",
    "plt.figure(figsize=(30,10))\n",
    "ax4 = plt.subplot(2, 1, 1)\n",
    "ax4.plot(sgrf2.groupby('year')['no_of_rainy_days'].sum(),alpha=0.5,color='red', marker='o')\n",
    "ax4.set_title('Total Rain Days by Year 1982 - 2022 ')\n",
    "ax4.set_xlabel('Date')\n",
    "ax4.set_ylabel('Total Rain day > 0.2 (millimeters)')\n",
    "xmin4, xmax4 = ax4.get_xlim() \n",
    "ax4.hlines(y = np.mean(sgrf2.groupby('year')['no_of_rainy_days'].sum()), xmin = xmin4, xmax = xmax4, color = 'orange');\n",
    "\n",
    "plt.figure(figsize=(20,8))\n",
    "ax5 = plt.subplot(2, 1, 2)\n",
    "ax5.plot(sgrf2.groupby('year')['total_rainfall'].sum(),alpha=0.5,color='orange', marker='o' )\n",
    "ax5.set_title('Accumulated Rain by Year 1982 - 2022 ', fontsize=8)\n",
    "ax5.set_xlabel('Year')\n",
    "ax5.set_ylabel('Accumulated rain (Millimeters)', fontsize=8)\n",
    "xmin5, xmax5 = ax5.get_xlim() \n",
    "ax5.hlines(y = np.mean(sgrf2.groupby('year')['total_rainfall'].sum()), xmin = xmin5, xmax = xmax5, color = 'red');\n",
    "\n",
    "\n",
    "plt.show(True)\n"
   ]
  },
  {
   "cell_type": "code",
   "execution_count": null,
   "metadata": {},
   "outputs": [],
   "source": [
    "plt.figure(figsize=(20,15))\n",
    "ax1 = plt.subplot(3, 1, 1)\n",
    "ax1.plot(sgrf2.groupby('month')['no_of_rainy_days'].max(),alpha=0.5,color='orange', marker='o',label='Max')\n",
    "ax1.plot(sgrf2.groupby('month')['no_of_rainy_days'].mean(),alpha=0.5,color='red', marker='o',label='Mean')\n",
    "ax1.plot(sgrf2.groupby('month')['no_of_rainy_days'].min(),alpha=0.5,color='yellow', marker='o',label='Min')\n",
    "ax1.legend()\n",
    "ax1.set_xlabel('Month')\n",
    "ax1.set_ylabel('Rain Day >0.2mm (Days)')\n",
    "ax1.set_title('Total rain days sorting by Month from 1982 - 2022 ')\n",
    "\n",
    "ax2 = plt.subplot(3, 1, 2)\n",
    "ax2.plot(sgrf2.groupby('month')['total_rainfall'].max(),alpha=0.9,color='orange', marker='o', label='Max')\n",
    "ax2.plot(sgrf2.groupby('month')['total_rainfall'].mean(),alpha=0.9,color='red', marker='o', label='Mean')\n",
    "ax2.plot(sgrf2.groupby('month')['total_rainfall'].min(),alpha=0.9,color='yellow', marker='o', label='Min')\n",
    "ax2.legend()\n",
    "ax2.set_xlabel('Month')\n",
    "ax2.set_ylabel('Accumulated Rain (milimeters)')\n",
    "ax2.set_title('Rain Accumulated sorting by Month from 1982 - 2022 ')\n",
    "\n",
    "ax3 = plt.subplot(3, 1, 3)\n",
    "ax3.plot(sgrf2.groupby('month')['Avg_rf_perday'].max(),alpha=0.8,color='orange', marker='o', label='Max')\n",
    "ax3.plot(sgrf2.groupby('month')['Avg_rf_perday'].min(),alpha=0.8,color='yellow', marker='o', label='Min')\n",
    "ax3.plot(sgrf2.groupby('month')['Avg_rf_perday'].mean(),alpha=0.8,color='red', marker='o', label='Mean')\n",
    "ax3.legend()\n",
    "ax3.set_title('Rain Accumulated (Per Rain Day) sorting by Month from 1982 - 2022 ')\n",
    "ax3.set_xlabel('Month')\n",
    "ax3.set_ylabel('Accumulated Rain (milimeters)')\n",
    "\n",
    "\n",
    "plt.show(True)"
   ]
  },
  {
   "cell_type": "code",
   "execution_count": null,
   "metadata": {},
   "outputs": [],
   "source": [
    "sgrf2['GR_NumRainDays'] = sgrf2['no_of_rainy_days'].pct_change(periods=1)\n",
    "sgrf2['GR_TotalRainfall'] = sgrf2['total_rainfall'].pct_change(periods=1)\n",
    "sgrf2.head(15)\n",
    "\n",
    "#See sum of growth rate between each year to see differences to roughly see any change in pattern"
   ]
  },
  {
   "cell_type": "code",
   "execution_count": null,
   "metadata": {},
   "outputs": [],
   "source": [
    "plt.figure(figsize=(25,8))\n",
    "\n",
    "ax1 = plt.subplot(2, 1, 1)\n",
    "ax1.scatter(sgrf2['year'].unique(),(sgrf2.groupby('year')['GR_NumRainDays'].sum()), color='red')\n",
    "ax1.set_title('Sum of Growth Rate (Month on Month) Rain Days from Year 1982 - 2022')\n",
    "ax1.set_xlabel('Year')\n",
    "ax1.set_ylabel('Growth Rate (Percentage)')\n",
    "xmin1, xmax1 = ax1.get_xlim() \n",
    "ax1.hlines(y = np.mean(sgrf2['GR_NumRainDays']*12), xmin = xmin1, xmax = xmax1, color = 'orange');\n",
    "\n",
    "\n",
    "ax2 = plt.subplot(2, 1, 2)\n",
    "ax2.scatter(sgrf2['year'].unique(),(sgrf2.groupby('year')['GR_TotalRainfall'].sum()), color='orange')\n",
    "ax2.set_title('Sum of Growth Rate (Month on Month) Accumulated Rain from Year 1982 - 2022 ')\n",
    "ax2.set_xlabel('Year')\n",
    "ax2.set_ylabel('Growth Rate (Percentage)')\n",
    "xmin2, xmax2 = ax2.get_xlim() \n",
    "ax2.hlines(y = np.mean(sgrf2['GR_TotalRainfall']*12), xmin = xmin2, xmax = xmax2, color = 'red');\n",
    "\n",
    "\n",
    "plt.show(True)\n",
    "\n",
    "#See sum of growth rate between each year to see differences to roughly see any change in pattern"
   ]
  },
  {
   "cell_type": "code",
   "execution_count": null,
   "metadata": {},
   "outputs": [],
   "source": [
    "\n",
    "plt.figure(figsize=(20,8))\n",
    "ax1 = plt.subplot(2, 1, 1)\n",
    "ax1.bar(sgrf2['month'],(sgrf2['GR_NumRainDays']),alpha=0.2,color='red')\n",
    "ax1.set_title('Growth Rate Month on Month of Rain Days from Year 1982 - 2022')\n",
    "ax1.set_xlabel('Month')\n",
    "ax1.set_ylabel('Growth Rate (Percentage)')\n",
    "xmin1, xmax1 = ax1.get_xlim() \n",
    "ax1.hlines(y = np.mean(sgrf2['GR_NumRainDays']), xmin = xmin1, xmax = xmax1, color = 'orange');\n",
    "\n",
    "\n",
    "ax2 = plt.subplot(2, 1, 2)\n",
    "ax2.bar(sgrf2['month'],(sgrf2['GR_TotalRainfall']),alpha=0.2,color='orange')\n",
    "ax2.set_title('Growth Rate Month on Month of Accumulated Rain from Year 1982 - 2022')\n",
    "ax2.set_xlabel('Month')\n",
    "ax2.set_ylabel('Growth Rate (Percentage)')\n",
    "xmin2, xmax2 = ax2.get_xlim() \n",
    "ax2.hlines(y = np.mean(sgrf2['GR_TotalRainfall']), xmin = xmin2, xmax = xmax2, color = 'red');\n",
    "\n",
    "plt.show(True)\n",
    "\n",
    "##If breakdown by month, we will see that March grows significantly from February and fluctuated the most among month\n",
    "#over years; This may implies that February Rain Day / Rain Amount may fluctuated and uncertain each year.\n"
   ]
  },
  {
   "cell_type": "code",
   "execution_count": null,
   "metadata": {},
   "outputs": [],
   "source": [
    "plt.figure(figsize=(20,8))\n",
    "\n",
    "ax1 = plt.subplot(1, 2, 1)\n",
    "ax1.plot(sgrf2.groupby('month')['GR_NumRainDays'].mean(), color='red')\n",
    "ax1.set_title('Growth Rate Month on Month of Rain Days from Year 1982 - 2022')\n",
    "ax1.set_xlabel('Month')\n",
    "ax1.set_ylabel('Growth Rate (Percentage)')\n",
    "xmin1, xmax1 = ax1.get_xlim() \n",
    "ax1.hlines(y = np.mean(sgrf2['GR_NumRainDays']), xmin = xmin1, xmax = xmax1, color = 'orange');\n",
    "\n",
    "\n",
    "ax2 = plt.subplot(1, 2, 2)\n",
    "plt.plot(sgrf2.groupby('month')['GR_TotalRainfall'].mean(), color='orange')\n",
    "ax2.set_title('Growth Rate Month on Month of Accumulated Rain from Year 1982 - 2022')\n",
    "ax2.set_xlabel('Month')\n",
    "ax2.set_ylabel('Growth Rate (Percentage)')\n",
    "xmin2, xmax2 = ax2.get_xlim() \n",
    "ax2.hlines(y = np.mean(sgrf2['GR_TotalRainfall']), xmin = xmin2, xmax = xmax2, color = 'red');\n",
    "\n",
    "plt.show(True)\n",
    "\n",
    "print(sgrf2.groupby('month')['GR_NumRainDays'].mean()),print(sgrf2.groupby('month')['GR_TotalRainfall'].mean())\n",
    "\n",
    "##Line graph tells the same. Let's find out why"
   ]
  },
  {
   "cell_type": "code",
   "execution_count": null,
   "metadata": {},
   "outputs": [],
   "source": [
    "#We trying to identify if there are stinky things going on\n",
    "sgrf2[sgrf2['GR_TotalRainfall'] > 50]"
   ]
  },
  {
   "cell_type": "code",
   "execution_count": null,
   "metadata": {},
   "outputs": [],
   "source": [
    "#Found out that February in some year has rainy days as low as 1 or 2 ; Hence March gained huge growth from this\n",
    "sgrf2[(sgrf2['year'].isin (['2014','2021'])) & (sgrf2['month'] == '02')]"
   ]
  },
  {
   "cell_type": "code",
   "execution_count": null,
   "metadata": {
    "scrolled": true
   },
   "outputs": [],
   "source": [
    "#We trying to identify if there are stinky things going on\n",
    "sgrf2[sgrf2['GR_NumRainDays'] > 3]"
   ]
  },
  {
   "cell_type": "code",
   "execution_count": null,
   "metadata": {},
   "outputs": [],
   "source": [
    "#Found out that February in some year gained rain as low as 0.2mm or 1.0mm ; Hence March gained huge growth from this\n",
    "sgrf2[(sgrf2['year'].isin(['1986','1989','2007','2014','2021'])) & (sgrf2['month'] == '02')]"
   ]
  },
  {
   "cell_type": "code",
   "execution_count": null,
   "metadata": {},
   "outputs": [],
   "source": [
    "outliers = sgrf2[sgrf2['total_rainfall'] > 454.41249999999997][['month','total_rainfall']]\n",
    "print(outliers)\n",
    "outliers['month'] = outliers['month'].apply(lambda x: str(x))\n",
    "print(outliers.dtypes)\n",
    "\n",
    "plt.boxplot(sgrf2['total_rainfall'])\n",
    "plt.scatter(outliers['month'],outliers['total_rainfall'],color='orange')\n",
    "plt.title('Scatterplot Outliers in Total RainfallData from 1982-2022', fontsize=10)\n",
    "plt.xlabel('Month', fontsize=8)\n",
    "plt.ylabel('Total Rain (mm)')\n",
    "plt.show()\n",
    "\n",
    "#Outliers might indicate unusual event like mis-collecting data or even heavy disaster."
   ]
  },
  {
   "cell_type": "code",
   "execution_count": null,
   "metadata": {},
   "outputs": [],
   "source": [
    "\n",
    "plt.scatter(outliers['month'],outliers['total_rainfall'],color='orange')\n",
    "plt.title('Scatterplot Outliers in Total RainfallData from 1982-2022', fontsize=10)\n",
    "plt.xlabel('Month', fontsize=8)\n",
    "plt.ylabel('Total Rain (mm)')\n",
    "plt.show()\n",
    "\n",
    "#Turned out that heavy rain often occur in Nov, Dec, Jan and Feb accordingly."
   ]
  },
  {
   "cell_type": "code",
   "execution_count": null,
   "metadata": {},
   "outputs": [],
   "source": [
    "sgrf2[sgrf2['total_rainfall'] > 454.41249999999997].count()"
   ]
  },
  {
   "cell_type": "markdown",
   "metadata": {},
   "source": [
    "## Conclusions and Recommendations"
   ]
  },
  {
   "cell_type": "markdown",
   "metadata": {},
   "source": [
    "Based on your exploration of the data, what are you key takeaways and recommendations? Make sure to answer your question of interest or address your problem statement here."
   ]
  },
  {
   "cell_type": "markdown",
   "metadata": {},
   "source": [
    "**To-Do:** *Edit this cell with your conclusions and recommendations.*\n",
    "\n",
    "\n",
    "**Conclusion and Recommendations**\n",
    "\n",
    "**Disclaimer:** As stated in Raw Data above, the metrological station has been relocated quite a few then moved to Changi since 1984, I didn't remove the data from 1982 to 1984 since station relocation may not be a big deal in Singapore context which as total area of a bit more from Phuket province!\n",
    "\n",
    "After quite a few EDA, It is certain that The Northeast Monsoon that occurs from December to early March is cause more serverity in terms of rains than the Southwest Monsoon from June to September. So, we suggest that condition to put in the rules for extra paid leaves for employee welfare should be around October, November, December and January; Although, this shouldn't extend to February since February has shown to be the least rain month of the year to effect least with business since It is proven *(from outsource article*)* that rain can associate with demand for Carwash.\n",
    "\n",
    "Else; It can put it in marketing perspective; rainy season can be put to a perfect chance to run a promotion of non-car washing associated service like car detailing / coating to avoid rain stain to damage car paint and have employee benefits from it for extra incentive for such services. So, both owner and employee can enjoy benefits both side.\n",
    "\n",
    "This may help in business decision in a perspective, but together with sales in carwash data over period of time could be perks and help making smarter decision (if available; although is a 'no no' in this case) \n",
    "\n",
    "\n"
   ]
  },
  {
   "cell_type": "markdown",
   "metadata": {},
   "source": [
    "Don't forget to create your README!\n",
    "\n",
    "**To-Do:** *If you combine your problem statement, data dictionary, brief summary of your analysis, and conclusions/recommendations, you have an amazing README.md file that quickly aligns your audience to the contents of your project.* Don't forget to cite your data sources!"
   ]
  }
 ],
 "metadata": {
  "anaconda-cloud": {},
  "kernelspec": {
   "display_name": "Python 3 (ipykernel)",
   "language": "python",
   "name": "python3"
  },
  "language_info": {
   "codemirror_mode": {
    "name": "ipython",
    "version": 3
   },
   "file_extension": ".py",
   "mimetype": "text/x-python",
   "name": "python",
   "nbconvert_exporter": "python",
   "pygments_lexer": "ipython3",
   "version": "3.11.4"
  }
 },
 "nbformat": 4,
 "nbformat_minor": 4
}
